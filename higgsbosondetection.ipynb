{
 "cells": [
  {
   "cell_type": "markdown",
   "metadata": {},
   "source": [
    "# Higgs Boson Particle Detection\n",
    "\n",
    "## 1) Model comparison\n",
    "I compared four classifiers: kNN, Decision Trees, Random Forests, and Gradient Boosted trees. I beleive the Gradient Boosted trees works the best, so I used an ensemble of those classifiers in my final model. I used the area under each model's ROC curve to determine this. The higher the area, the better I perceive the model to be. The Gradient Boosted trees resulted in the highest AUROC value, and so I used this model as the estimator in the final ensemble.\n",
    "\n",
    "## 2) Data used for training\n",
    "I used 70% of the data in train.csv for training, and the other 30% for validation. In the hyperparameter testing phase, I split the 70% into k subsections, to train models with different hyperparameters. For the final model I submitted to Kaggle, I used an ensemble of Gradient Boosted trees and trained it on the entire 70% training data rather than the k-split subsection. \n",
    "\n",
    "## 3) Hyperparameter Selection\n",
    "I chose the hyperparameters by systematically running through many different values and choosing the hyperparameter value that resulted in the highest AUROC value (evaluated on a kFold split of the training dataset). \n",
    "\n",
    "*Note:*\n",
    "- Kaggle was taking too long to run the Gradient Boosted trees, so I ran it on my own computer. While optimizing the hyperparameters for my Bagging ensemble of Gradient Boosted trees, my computer crashed. So I cut the hyperparameter testing early and chose the best hyperparameters that I had seen so far. I didn't want to run the whole notebook again so I hard-coded the hyperparameter values in the last cell to submit the file."
   ]
  },
  {
   "cell_type": "markdown",
   "metadata": {},
   "source": [
    "# Model Selection and Hyperparameter Optimization\n",
    "\n",
    "## Hyperparameter Optimization\n",
    "In this notebook, I perform hyperparameter optimization on 4 models with the help of the kFold cross validation technique. I do this using kFold splitting and ROC curves. Instead of performing standard kFold validation to validate a model's performance (k-1 sets for training and the 1 held out set for validation) I do the following: \n",
    "\n",
    "1) Import *training* data only\n",
    "\n",
    "2) Split training data **further** into training and validation sets. This validation set will remain *untouched* for now\n",
    "\n",
    "3) Split the training set **further** into k subsets with 1 held-out validation set (kFolds)\n",
    "\n",
    "4) On each iteration of the kFolds technique: \n",
    "    - k-1 sets are used for training the model with hyperparameter(n)\n",
    "    - 1 held-out set is used to calculate the AUROC values of the model with hyperparameter(n) \n",
    "    - Change the value of n\n",
    "    \n",
    "5) Choose the hyperparameter value that resulted in the highest AUROC value\n",
    "\n",
    "6) Evaluate the model with optimized hyperparameters on the *untouched* validation set \n",
    "\n",
    "And so, rather than using kFold cross-validation to validate the accuracy of a single model across k subsets, I am using each subset to test the model with **different** hyperparameters. I then select the hyperparameter value which produced the highest AUROC value and retrain the model using this value. Afterwards, I validated the model's performance on the *untouched* validation set from the first split I performed on the training data (step 2). \n",
    "\n",
    "What this approach does:\n",
    "* Prevents model overfitting by *first* performing hyperparameter optimization *then* validating the model on an untouched set \n",
    "* Model validation performed on the untouched validation set \n",
    "\n",
    "What this approach **does not** do: \n",
    "* Actual kFold cross validation\n",
    "\n",
    "## Model Validation\n",
    "And so, although the above steps may be misleading because I use the kFolds technique, I do not use kFold splitting to *validate* my model, but rather to test and select the optimal hyperparameter. I then perform a simple one-step validation using the set I split off in step 2.\n",
    "\n",
    "## Model Selection and Performance Metrics\n",
    "I performed the above hyperparameter optimization and validation strategies on 4 learning algorithms: kNearestNeighbors, Decision Trees, Random Forests, and Gradient Boosting. The metric I used to evaluate each model's performance is their AUROC values as derived in step 6. I compared all values and chose the model with the higher AUROC value.\n",
    "\n",
    "To summarize my results, I found k = 23 to be the optimal k-value for kNN, and max_depth = 7 to be optimal for my decision tree. Thinking about this now, if I wanted to optimize the models further I could repeat the same process with other hyperparameters to try to improve performance. However, I think I chose the most impactful hyperparameters to adjust because of the large resulting impact in AUROC values.\n",
    "\n",
    "## Result of Analysis \n",
    "The winning model turned out to be Gradient Booosted Trees: with an AUROC value of .79 compared to the .63 of my first model kNN. This is clearly visually represented by the graphed ROC curves that show the large difference in area under the curve between the two models. \n",
    "\n",
    "This analysis has shown me why it's so important to 1) Pick the most effective model, 2) Optimize it's hyperparameters, and 3) Evaluate its performance on a validation set. These three steps maximize your model's effectiveness, prevent overfitting, and make sure you pick the best model for the situation. I will definitely be using these techniques to compare model performance in the future. \n",
    "\n",
    "*Notes:*\n",
    "- Because of randomized data splits, running the notebook gives slightly different values for the best hyperparameters each time. My code automatically uses the 'best' value to create the final model, and so the models' performance may vary slightly each time the notebook is ran. \n",
    "- Originally I was performing between 10 and 15 splits with the kFold technique, and evaluating 10-15 different hyperparameters. After the completion of this notebook, while writing this top portion, I had the idea that since this is such a large dataset, I could do something super large such as 100 splits. Testing 100 different hyperparameters might actually give me more optimal values than testing with 10-15, so I tried this out. Very interestingly, even testing 100 different k-values with kNN resulted in an optimal k very close to the one I found testing only 15. The same exact thing can be said about the decision tree.\n",
    "\n",
    "*by Chinenye Ndili*"
   ]
  },
  {
   "cell_type": "markdown",
   "metadata": {},
   "source": [
    "# Import packages and dataset"
   ]
  },
  {
   "cell_type": "code",
   "execution_count": 7,
   "metadata": {},
   "outputs": [],
   "source": [
    "import numpy as np # linear algebra\n",
    "import matplotlib.pylab as plt # Plotting\n",
    "import sklearn # Machine learning models.\n",
    "from sklearn.neighbors import KNeighborsClassifier as KNN\n",
    "import sklearn.metrics # Area under ROC curve calculations. \n",
    "from sklearn.model_selection import train_test_split as tts # Train test split \n",
    "from sklearn.model_selection import KFold # KFold cross validation \n",
    "import pandas as pd # Quick dataframe previewing \n",
    "\n",
    "\n",
    "\n",
    "filename = 'train.csv'\n",
    "\n",
    "\n",
    "data = np.loadtxt(filename, skiprows=1, delimiter=',')\n",
    "\n",
    "X = data[:,1:]\n",
    "Y = data[:,0:1]\n",
    "\n",
    "# Split off validation set, size = 30% validation 70% training\n",
    "Xtrain, Xvalid, Ytrain, Yvalid = tts(X, Y, test_size=.3)"
   ]
  },
  {
   "cell_type": "markdown",
   "metadata": {},
   "source": [
    "# Optimize and Validate kNN model"
   ]
  },
  {
   "cell_type": "code",
   "execution_count": 23,
   "metadata": {
    "_cell_guid": "79c7e3d0-c299-4dcb-8224-4455121ee9b0",
    "_uuid": "d629ff2d2480ee46fbb7e2d37f6b5fab8052498a"
   },
   "outputs": [
    {
     "name": "stdout",
     "output_type": "stream",
     "text": [
      "Validation AUROC for KNN with k = 3: 0.5735221663050889\n",
      "Validation AUROC for KNN with k = 5: 0.5831376891298831\n",
      "Validation AUROC for KNN with k = 7: 0.601283831823557\n",
      "Validation AUROC for KNN with k = 9: 0.6113764598788977\n",
      "Validation AUROC for KNN with k = 11: 0.6258952725482667\n",
      "Validation AUROC for KNN with k = 13: 0.6241510841309229\n",
      "Validation AUROC for KNN with k = 15: 0.6276705689689512\n",
      "Validation AUROC for KNN with k = 17: 0.6246607756867675\n",
      "Validation AUROC for KNN with k = 19: 0.6330369039134881\n",
      "Validation AUROC for KNN with k = 21: 0.629321399887292\n",
      "Validation AUROC for KNN with k = 23: 0.6283976383459587\n",
      "Validation AUROC for KNN with k = 25: 0.6289976406399764\n",
      "Validation AUROC for KNN with k = 27: 0.6217364371461696\n",
      "Validation AUROC for KNN with k = 29: 0.6230408067175293\n",
      "Validation AUROC for KNN with k = 31: 0.6415809370535687\n",
      "Max AUROC value at k = 31. AUROC value with optimized kValue on validation set = 0.633471283860941\n"
     ]
    },
    {
     "data": {
      "text/plain": [
       "Text(0.5, 1.0, 'kNN with k = 31')"
      ]
     },
     "execution_count": 23,
     "metadata": {},
     "output_type": "execute_result"
    },
    {
     "data": {
      "image/png": "[encoded data removed]",
      "text/plain": [
       "<Figure size 432x288 with 1 Axes>"
      ]
     },
     "metadata": {
      "needs_background": "light"
     },
     "output_type": "display_data"
    }
   ],
   "source": [
    "# Split training set with KFoldValidation in order to perform hyperparameter optimization\n",
    "kf = KFold(n_splits = 15)\n",
    "kFolds = kf.split(Xtrain)\n",
    "\n",
    "# Set 'k' in kNN algo, declare dictionary to hold AUROC values {kval : auroc}\n",
    "k = 1\n",
    "aurocs = {}\n",
    "\n",
    "\n",
    "# Use kFold technique on training set to test models with different values of k starting at 3\n",
    "for train_index, test_index in kFolds:\n",
    "    k += 2\n",
    "    model = KNN(n_neighbors=k)\n",
    "    model.fit(Xtrain[train_index], Ytrain[train_index][:,0])\n",
    "    predictions = model.predict_proba(Xtrain[test_index])\n",
    "    val = sklearn.metrics.roc_auc_score(Ytrain[test_index], predictions[:,1])\n",
    "    print(f'Validation AUROC for KNN with k = {k}: {val}')\n",
    "    aurocs[k] = val\n",
    "\n",
    "# Choose optimized k-value and evaulate AUROC value on the untouched validation set (note: not the same validation set used in kFolds technique)\n",
    "model = KNN(n_neighbors=max(aurocs, key=aurocs.get)) # Set model with optimized k-value\n",
    "model.fit(Xtrain[train_index], Ytrain[train_index][:,0]) # Fit model on the training set\n",
    "predictions = model.predict_proba(Xvalid) # Predict on validation set\n",
    "val = sklearn.metrics.roc_auc_score(Yvalid, predictions[:,1]) # Calculate AUROC value\n",
    "print(f'Max AUROC value at k = {max(aurocs, key=aurocs.get)}. AUROC value with optimized kValue on validation set = {val}') # Print AUROC value on untouched validation set\n",
    "\n",
    "# Plot ROC curve.\n",
    "fpr, tpr, thresholds = sklearn.metrics.roc_curve(Yvalid, predictions[:,1])\n",
    "plt.plot(fpr, tpr)\n",
    "plt.plot([0, 1], [0, 1], color='navy', linestyle='--')\n",
    "plt.xlim([0.0, 1.0])\n",
    "plt.ylim([0.0, 1.05])\n",
    "plt.xlabel('False Positive Rate')\n",
    "plt.ylabel('True Positive Rate')\n",
    "plt.title(f'kNN with k = {max(aurocs, key=aurocs.get)}')"
   ]
  },
  {
   "cell_type": "markdown",
   "metadata": {},
   "source": [
    "# Evaluating Alternate Model (Decision Trees)"
   ]
  },
  {
   "cell_type": "code",
   "execution_count": 24,
   "metadata": {},
   "outputs": [
    {
     "name": "stdout",
     "output_type": "stream",
     "text": [
      "Validation AUROC for Decision Tree with max_depth = 3: 0.6787634602449952\n",
      "Validation AUROC for Decision Tree with max_depth = 5: 0.7080416212334082\n",
      "Validation AUROC for Decision Tree with max_depth = 7: 0.7415215073925665\n",
      "Validation AUROC for Decision Tree with max_depth = 9: 0.7385984910042147\n",
      "Validation AUROC for Decision Tree with max_depth = 11: 0.6912678417914394\n",
      "Validation AUROC for Decision Tree with max_depth = 13: 0.6705609185854986\n",
      "Validation AUROC for Decision Tree with max_depth = 15: 0.6173539300550775\n",
      "Validation AUROC for Decision Tree with max_depth = 17: 0.6165747499403743\n",
      "Validation AUROC for Decision Tree with max_depth = 19: 0.5992899330336956\n",
      "Validation AUROC for Decision Tree with max_depth = 21: 0.6045141402053676\n",
      "Max AUROC value at max_depth = 7. AUROC value with optimized kValue on validation set = 0.7333417716857331\n"
     ]
    },
    {
     "data": {
      "text/plain": [
       "Text(0.5, 1.0, 'Decision tree with max_depth = 7')"
      ]
     },
     "execution_count": 24,
     "metadata": {},
     "output_type": "execute_result"
    },
    {
     "data": {
      "image/png": "[encoded data removed]",
      "text/plain": [
       "<Figure size 432x288 with 1 Axes>"
      ]
     },
     "metadata": {
      "needs_background": "light"
     },
     "output_type": "display_data"
    }
   ],
   "source": [
    "# Using decision tree classifier\n",
    "from sklearn import tree # Decision tree algo\n",
    "\n",
    "# Split training set with KFoldValidation\n",
    "kf_two = KFold(n_splits = 10)\n",
    "kFolds_two = kf_two.split(Xtrain)\n",
    "\n",
    "# Set 'max_depth' in decision tree algo, declare dictionary to hold AUROC values {max_depth : auroc}\n",
    "mdepth = 1\n",
    "aurocs_two = {}\n",
    "\n",
    "\n",
    "# Use kFold technique on training set to test models with different values of max_depth starting at 3\n",
    "for train_index, test_index in kFolds_two:\n",
    "    mdepth += 2\n",
    "    model_two = tree.DecisionTreeClassifier(max_depth=mdepth)\n",
    "    model_two.fit(Xtrain[train_index], Ytrain[train_index][:,0])\n",
    "    predictions_two = model_two.predict_proba(Xtrain[test_index])\n",
    "    val_two = sklearn.metrics.roc_auc_score(Ytrain[test_index], predictions_two[:,1])\n",
    "    print(f'Validation AUROC for Decision Tree with max_depth = {mdepth}: {val_two}')\n",
    "    aurocs_two[mdepth] = val_two\n",
    "    \n",
    "# Choose optimized max_depth and evaulate AUROC value on the untouched validation set (note: not the same validation set used in kFolds technique)\n",
    "model_two = tree.DecisionTreeClassifier(max_depth=max(aurocs_two, key=aurocs_two.get)) # Set model with optimized max_depth value\n",
    "model_two.fit(Xtrain[train_index], Ytrain[train_index][:,0]) # Fit model on the training set\n",
    "predictions_two = model_two.predict_proba(Xvalid) # Predict on validation set\n",
    "val_two = sklearn.metrics.roc_auc_score(Yvalid, predictions_two[:,1]) # Calculate AUROC value\n",
    "print(f'Max AUROC value at max_depth = {max(aurocs_two, key=aurocs_two.get)}. AUROC value with optimized kValue on validation set = {val_two}') # Print AUROC value on untouched validation set\n",
    "\n",
    "# Plot ROC curve.\n",
    "fpr_two, tpr_two, thresholds_two = sklearn.metrics.roc_curve(Yvalid, predictions_two[:,1])\n",
    "plt.plot(fpr_two, tpr_two)\n",
    "plt.plot([0, 1], [0, 1], color='navy', linestyle='--')\n",
    "plt.xlim([0.0, 1.0])\n",
    "plt.ylim([0.0, 1.05])\n",
    "plt.xlabel('False Positive Rate')\n",
    "plt.ylabel('True Positive Rate')\n",
    "plt.title(f'Decision tree with max_depth = {max(aurocs_two, key=aurocs_two.get)}')"
   ]
  },
  {
   "cell_type": "markdown",
   "metadata": {},
   "source": [
    "# Evaluating Alternate Model (Random Forests)"
   ]
  },
  {
   "cell_type": "code",
   "execution_count": 25,
   "metadata": {},
   "outputs": [
    {
     "name": "stdout",
     "output_type": "stream",
     "text": [
      "Validation AUROC for Random Forest with max_depth = 3: 0.7218350970029199\n",
      "Validation AUROC for Random Forest with max_depth = 5: 0.7409157510117638\n",
      "Validation AUROC for Random Forest with max_depth = 7: 0.7745082695754627\n",
      "Validation AUROC for Random Forest with max_depth = 9: 0.7787255053576294\n",
      "Validation AUROC for Random Forest with max_depth = 11: 0.7713777600513774\n",
      "Validation AUROC for Random Forest with max_depth = 13: 0.7794326680858003\n",
      "Validation AUROC for Random Forest with max_depth = 15: 0.7837423025810919\n",
      "Validation AUROC for Random Forest with max_depth = 17: 0.7871029333197233\n",
      "Validation AUROC for Random Forest with max_depth = 19: 0.793088013044601\n",
      "Validation AUROC for Random Forest with max_depth = 21: 0.7807823187335883\n",
      "Validation AUROC for Random Forest with max_depth = 19 and n_estimators = 100: 0.7750206828554534\n",
      "Validation AUROC for Random Forest with max_depth = 19 and n_estimators = 120: 0.7803935393906352\n",
      "Validation AUROC for Random Forest with max_depth = 19 and n_estimators = 140: 0.7959436443746248\n",
      "Validation AUROC for Random Forest with max_depth = 19 and n_estimators = 160: 0.793725033550714\n",
      "Validation AUROC for Random Forest with max_depth = 19 and n_estimators = 180: 0.7791916258502083\n",
      "Validation AUROC for Random Forest with max_depth = 19 and n_estimators = 200: 0.7819625704358997\n",
      "Validation AUROC for Random Forest with max_depth = 19 and n_estimators = 220: 0.7850393667174655\n",
      "Validation AUROC for Random Forest with max_depth = 19 and n_estimators = 240: 0.791018104928693\n",
      "Validation AUROC for Random Forest with max_depth = 19 and n_estimators = 260: 0.7992377323471237\n",
      "Validation AUROC for Random Forest with max_depth = 19 and n_estimators = 280: 0.7864411265925711\n",
      "Max AUROC value at max_depth = 19 and n_estimators = 260. AUROC value with optimized kValue on validation set = 0.7856145456735875\n"
     ]
    },
    {
     "data": {
      "text/plain": [
       "Text(0.5, 1.0, 'Random Forest with max_depth = 19 and n_estimators = 260')"
      ]
     },
     "execution_count": 25,
     "metadata": {},
     "output_type": "execute_result"
    },
    {
     "data": {
      "image/png": "[encoded data removed]",
      "text/plain": [
       "<Figure size 432x288 with 1 Axes>"
      ]
     },
     "metadata": {
      "needs_background": "light"
     },
     "output_type": "display_data"
    }
   ],
   "source": [
    "# Using decision tree classifier\n",
    "from sklearn.ensemble import RandomForestClassifier\n",
    "\n",
    "# Split training set with KFoldValidation\n",
    "kf_two = KFold(n_splits = 10)\n",
    "kFolds_two = kf_two.split(Xtrain)\n",
    "\n",
    "# Set 'max_depth' in random forest algo, declare dictionary to hold AUROC values {max_depth : auroc}\n",
    "mdepth = 1\n",
    "aurocs_two = {}\n",
    "\n",
    "\n",
    "# Use kFold technique on training set to test models with different values of max_depth starting at 3\n",
    "for train_index, test_index in kFolds_two:\n",
    "    mdepth += 2\n",
    "    model_two = RandomForestClassifier(max_depth=mdepth)\n",
    "    model_two.fit(Xtrain[train_index], Ytrain[train_index][:,0])\n",
    "    predictions_two = model_two.predict_proba(Xtrain[test_index])\n",
    "    val_two = sklearn.metrics.roc_auc_score(Ytrain[test_index], predictions_two[:,1])\n",
    "    print(f'Validation AUROC for Random Forest with max_depth = {mdepth}: {val_two}')\n",
    "    aurocs_two[mdepth] = val_two\n",
    "\n",
    "# Assign a variable to the max_depth value that gave the best AUROC value\n",
    "bestDepth = max(aurocs_two, key=aurocs_two.get)\n",
    "\n",
    "n_est = 80 # n_estimators, the next hyperparameter that will be tested\n",
    "aurocs_est = {} # Declare a dictionary to hold {n_estimators : auroc}\n",
    "\n",
    "# Redo training set split with KFoldValidation to test the hyperparameter 'n_estimators'\n",
    "kf_two = KFold(n_splits = 10)\n",
    "kFolds_two = kf_two.split(Xtrain)\n",
    "\n",
    "# Use kFold technique on training set to test models with different values of n_estimators starting at 100\n",
    "# In this iteration we will be using the optimized value of max_depth found in the previous iteration\n",
    "for train_index, test_index in kFolds_two:\n",
    "    n_est += 20\n",
    "    model_two = RandomForestClassifier(max_depth=bestDepth, n_estimators=n_est)\n",
    "    model_two.fit(Xtrain[train_index], Ytrain[train_index][:,0])\n",
    "    predictions_two = model_two.predict_proba(Xtrain[test_index])\n",
    "    val_two = sklearn.metrics.roc_auc_score(Ytrain[test_index], predictions_two[:,1])\n",
    "    print(f'Validation AUROC for Random Forest with max_depth = {bestDepth} and n_estimators = {n_est}: {val_two}')\n",
    "    aurocs_est[n_est] = val_two # {n_est : auroc}\n",
    "\n",
    "# Assign a variable to the n_estimators value that gave the best AUROC value\n",
    "bestEst = max(aurocs_est, key=aurocs_est.get)\n",
    "    \n",
    "# Use optimized hyperparameters and evaulate AUROC value on the untouched validation set (note: not the same validation set used in kFolds technique)\n",
    "model_two = RandomForestClassifier(max_depth=bestDepth, n_estimators=bestEst) # Set model with optimized hyperparameter values\n",
    "model_two.fit(Xtrain[train_index], Ytrain[train_index][:,0]) # Fit model on the training set\n",
    "predictions_two = model_two.predict_proba(Xvalid) # Predict on validation set\n",
    "val_two = sklearn.metrics.roc_auc_score(Yvalid, predictions_two[:,1]) # Calculate AUROC value\n",
    "print(f'Max AUROC value at max_depth = {bestDepth} and n_estimators = {bestEst}. AUROC value with optimized kValue on validation set = {val_two}') # Print AUROC value on untouched validation set\n",
    "\n",
    "# Plot ROC curve.\n",
    "fpr_two, tpr_two, thresholds_two = sklearn.metrics.roc_curve(Yvalid, predictions_two[:,1])\n",
    "plt.plot(fpr_two, tpr_two)\n",
    "plt.plot([0, 1], [0, 1], color='navy', linestyle='--')\n",
    "plt.xlim([0.0, 1.0])\n",
    "plt.ylim([0.0, 1.05])\n",
    "plt.xlabel('False Positive Rate')\n",
    "plt.ylabel('True Positive Rate')\n",
    "plt.title(f'Random Forest with max_depth = {bestDepth} and n_estimators = {bestEst}')"
   ]
  },
  {
   "cell_type": "markdown",
   "metadata": {},
   "source": [
    "# Evaluating Alternate Model (Gradient Boosting)"
   ]
  },
  {
   "cell_type": "code",
   "execution_count": 26,
   "metadata": {},
   "outputs": [
    {
     "name": "stdout",
     "output_type": "stream",
     "text": [
      "Validation AUROC for Gradient Boosting with max_depth = 3: 0.7745827700997365\n",
      "Validation AUROC for Gradient Boosting with max_depth = 5: 0.7847777396254902\n",
      "Validation AUROC for Gradient Boosting with max_depth = 7: 0.8030135252319743\n",
      "Validation AUROC for Gradient Boosting with max_depth = 9: 0.796262633940741\n",
      "Validation AUROC for Gradient Boosting with max_depth = 11: 0.7730616951985545\n",
      "Validation AUROC for Gradient Boosting with max_depth = 13: 0.786815049113632\n",
      "Validation AUROC for Gradient Boosting with max_depth = 15: 0.7875848961314322\n",
      "Validation AUROC for Gradient Boosting with max_depth = 17: 0.7841879020641105\n",
      "Validation AUROC for Gradient Boosting with max_depth = 19: 0.7774127334284939\n",
      "Validation AUROC for Gradient Boosting with max_depth = 21: 0.7232289111995891\n",
      "Validation AUROC for Gradient Boosting with max_depth = 7 and n_estimators = 100: 0.7821338151247724\n",
      "Validation AUROC for Gradient Boosting with max_depth = 7 and n_estimators = 120: 0.7877353792279141\n",
      "Validation AUROC for Gradient Boosting with max_depth = 7 and n_estimators = 140: 0.8064011491345235\n",
      "Validation AUROC for Gradient Boosting with max_depth = 7 and n_estimators = 160: 0.7974922807146302\n",
      "Validation AUROC for Gradient Boosting with max_depth = 7 and n_estimators = 180: 0.7827221825163975\n",
      "Validation AUROC for Gradient Boosting with max_depth = 7 and n_estimators = 200: 0.7926375642604054\n",
      "Validation AUROC for Gradient Boosting with max_depth = 7 and n_estimators = 220: 0.7929146804345919\n",
      "Validation AUROC for Gradient Boosting with max_depth = 7 and n_estimators = 240: 0.7970297434608913\n",
      "Validation AUROC for Gradient Boosting with max_depth = 7 and n_estimators = 260: 0.7986514986479596\n",
      "Validation AUROC for Gradient Boosting with max_depth = 7 and n_estimators = 280: 0.7914334486232857\n",
      "Max AUROC value at max_depth = 7 and n_estimators = 140. AUROC value with optimized kValue on validation set = 0.7925858213983104\n"
     ]
    },
    {
     "data": {
      "text/plain": [
       "Text(0.5, 1.0, 'Gradient Boosting with max_depth = 7 and n_estimators = 140')"
      ]
     },
     "execution_count": 26,
     "metadata": {},
     "output_type": "execute_result"
    },
    {
     "data": {
      "image/png": "[encoded data removed]",
      "text/plain": [
       "<Figure size 432x288 with 1 Axes>"
      ]
     },
     "metadata": {
      "needs_background": "light"
     },
     "output_type": "display_data"
    }
   ],
   "source": [
    "# Using gradient boosting classifier\n",
    "from sklearn.ensemble import GradientBoostingClassifier\n",
    "\n",
    "# Split training set with KFoldValidation\n",
    "kf_two = KFold(n_splits = 10)\n",
    "kFolds_two = kf_two.split(Xtrain)\n",
    "\n",
    "# Set 'max_depth' in random gradient boosting algo, declare dictionary to hold AUROC values {max_depth : auroc}\n",
    "mdepth = 1\n",
    "aurocs_two = {}\n",
    "\n",
    "\n",
    "# Use kFold technique on training set to test models with different values of max_depth starting at 3\n",
    "for train_index, test_index in kFolds_two:\n",
    "    mdepth += 2\n",
    "    model_two = GradientBoostingClassifier(max_depth=mdepth)\n",
    "    model_two.fit(Xtrain[train_index], Ytrain[train_index][:,0])\n",
    "    predictions_two = model_two.predict_proba(Xtrain[test_index])\n",
    "    val_two = sklearn.metrics.roc_auc_score(Ytrain[test_index], predictions_two[:,1])\n",
    "    print(f'Validation AUROC for Gradient Boosting with max_depth = {mdepth}: {val_two}')\n",
    "    aurocs_two[mdepth] = val_two\n",
    "\n",
    "# Assign a variable to the max_depth value that gave the best AUROC value\n",
    "bestDepth = max(aurocs_two, key=aurocs_two.get)\n",
    "\n",
    "n_est = 80 # n_estimators, the next hyperparameter which will be tested\n",
    "aurocs_est = {} # Declare a dictionary to hold {n_estimators : auroc}\n",
    "\n",
    "# Redo training set split with KFoldValidation to test the hyperparameter 'n_estimators'\n",
    "kf_two = KFold(n_splits = 10)\n",
    "kFolds_two = kf_two.split(Xtrain)\n",
    "\n",
    "# Use kFold technique on training set to test models with different values of n_estimators starting at 100\n",
    "# In this iteration we will be using the optimized value of max_depth found in the previous iteration\n",
    "for train_index, test_index in kFolds_two:\n",
    "    n_est += 20\n",
    "    model_two = GradientBoostingClassifier(max_depth=bestDepth, n_estimators=n_est)\n",
    "    model_two.fit(Xtrain[train_index], Ytrain[train_index][:,0])\n",
    "    predictions_two = model_two.predict_proba(Xtrain[test_index])\n",
    "    val_two = sklearn.metrics.roc_auc_score(Ytrain[test_index], predictions_two[:,1])\n",
    "    print(f'Validation AUROC for Gradient Boosting with max_depth = {bestDepth} and n_estimators = {n_est}: {val_two}')\n",
    "    aurocs_est[n_est] = val_two # {n_est : auroc}\n",
    "\n",
    "# Assign a variable to the n_estimators value that gave the best AUROC value\n",
    "bestEst = max(aurocs_est, key=aurocs_est.get)\n",
    "    \n",
    "# Use optimized hyperparameters and evaulate AUROC value on the untouched validation set (note: not the same validation set used in kFolds technique)\n",
    "model_two = GradientBoostingClassifier(max_depth=bestDepth, n_estimators=bestEst) # Set model with optimized hyperparameter values\n",
    "model_two.fit(Xtrain[train_index], Ytrain[train_index][:,0]) # Fit model on the training set\n",
    "predictions_two = model_two.predict_proba(Xvalid) # Predict on validation set\n",
    "val_two = sklearn.metrics.roc_auc_score(Yvalid, predictions_two[:,1]) # Calculate AUROC value\n",
    "print(f'Max AUROC value at max_depth = {bestDepth} and n_estimators = {bestEst}. AUROC value with optimized kValue on validation set = {val_two}') # Print AUROC value on untouched validation set\n",
    "\n",
    "# Plot ROC curve.\n",
    "fpr_two, tpr_two, thresholds_two = sklearn.metrics.roc_curve(Yvalid, predictions_two[:,1])\n",
    "plt.plot(fpr_two, tpr_two)\n",
    "plt.plot([0, 1], [0, 1], color='navy', linestyle='--')\n",
    "plt.xlim([0.0, 1.0])\n",
    "plt.ylim([0.0, 1.05])\n",
    "plt.xlabel('False Positive Rate')\n",
    "plt.ylabel('True Positive Rate')\n",
    "plt.title(f'Gradient Boosting with max_depth = {bestDepth} and n_estimators = {bestEst}')"
   ]
  },
  {
   "cell_type": "markdown",
   "metadata": {},
   "source": [
    "# Make Predictions and Prepare Submission File"
   ]
  },
  {
   "cell_type": "markdown",
   "metadata": {},
   "source": [
    "# Evaluating Ensemble Model (Bootstrap Aggregating)"
   ]
  },
  {
   "cell_type": "code",
   "execution_count": null,
   "metadata": {},
   "outputs": [
    {
     "name": "stdout",
     "output_type": "stream",
     "text": [
      "Validation AUROC for Bagging Classifier with base_estimator = GradientBoostingClassifier(max_depth=7, n_estimators=140) and n_estimators = 10: 0.7858124789401987\n",
      "Validation AUROC for Bagging Classifier with base_estimator = GradientBoostingClassifier(max_depth=7, n_estimators=140) and n_estimators = 20: 0.7919131639371763\n",
      "Validation AUROC for Bagging Classifier with base_estimator = GradientBoostingClassifier(max_depth=7, n_estimators=140) and n_estimators = 30: 0.810394116000773\n",
      "Validation AUROC for Bagging Classifier with base_estimator = GradientBoostingClassifier(max_depth=7, n_estimators=140) and n_estimators = 40: 0.8085558252427185\n",
      "Validation AUROC for Bagging Classifier with base_estimator = GradientBoostingClassifier(max_depth=7, n_estimators=140) and n_estimators = 50: 0.7897593520884043\n"
     ]
    }
   ],
   "source": [
    "# Using gradient boosting classifier\n",
    "from sklearn.ensemble import BaggingClassifier\n",
    "\n",
    "n_est = 0 # n_estimators, the hyperparameter which will be optimized\n",
    "aurocs_est = {} # Declare a dictionary to hold {n_estimators : auroc}\n",
    "\n",
    "# Training set split with KFoldValidation to test the hyperparameter 'n_estimators'\n",
    "kf_two = KFold(n_splits = 10)\n",
    "kFolds_two = kf_two.split(Xtrain)\n",
    "\n",
    "# Use kFold technique on training set to test models with different values of n_estimators starting at 10\n",
    "# In this iteration we will be using the optimized value of max_depth found in the previous iteration\n",
    "for train_index, test_index in kFolds_two:\n",
    "    n_est += 10\n",
    "    my_ensemble = BaggingClassifier(base_estimator=model_two, n_estimators=n_est)\n",
    "    my_ensemble.fit(Xtrain[train_index], Ytrain[train_index][:,0])\n",
    "    predictions_two = my_ensemble.predict_proba(Xtrain[test_index])\n",
    "    val_two = sklearn.metrics.roc_auc_score(Ytrain[test_index], predictions_two[:,1])\n",
    "    print(f'Validation AUROC for Bagging Classifier with base_estimator = {model_two} and n_estimators = {n_est}: {val_two}')\n",
    "    aurocs_est[n_est] = val_two # {n_est : auroc}\n",
    "\n",
    "# Assign a variable to the n_estimators value that gave the best AUROC value\n",
    "bestEst = max(aurocs_est, key=aurocs_est.get)\n",
    "    \n",
    "# Use optimized hyperparameters and evaulate AUROC value on the untouched validation set (note: not the same validation set used in kFolds technique)\n",
    "my_ensemble = BaggingClassifier(base_estimator=model_two, n_estimators=bestEst) # Set model with optimized hyperparameter values\n",
    "my_ensemble.fit(Xtrain[train_index], Ytrain[train_index][:,0]) # Fit model on the training set\n",
    "predictions_two = my_ensemble.predict_proba(Xvalid) # Predict on validation set\n",
    "val_two = sklearn.metrics.roc_auc_score(Yvalid, predictions_two[:,1]) # Calculate AUROC value\n",
    "print(f'Max AUROC value at base_estimator = {model_two} and n_estimators = {bestEst}. AUROC value with optimized kValue on validation set = {val_two}') # Print AUROC value on untouched validation set\n",
    "\n",
    "# Plot ROC curve.\n",
    "fpr_two, tpr_two, thresholds_two = sklearn.metrics.roc_curve(Yvalid, predictions_two[:,1])\n",
    "plt.plot(fpr_two, tpr_two)\n",
    "plt.plot([0, 1], [0, 1], color='navy', linestyle='--')\n",
    "plt.xlim([0.0, 1.0])\n",
    "plt.ylim([0.0, 1.05])\n",
    "plt.xlabel('False Positive Rate')\n",
    "plt.ylabel('True Positive Rate')\n",
    "plt.title(f'Bagging Classifier with base_estimator = {model_two} and n_estimators = {bestEst}')"
   ]
  },
  {
   "cell_type": "code",
   "execution_count": 9,
   "metadata": {},
   "outputs": [
    {
     "data": {
      "text/plain": [
       "GradientBoostingClassifier(max_depth=7, n_estimators=140)"
      ]
     },
     "execution_count": 9,
     "metadata": {},
     "output_type": "execute_result"
    }
   ],
   "source": [
    "# Choose final model and make probabilistic predictions.\n",
    "from sklearn.ensemble import GradientBoostingClassifier\n",
    "from sklearn.ensemble import BaggingClassifier\n",
    "import numpy as np\n",
    "\n",
    "model_two = GradientBoostingClassifier(max_depth=7, n_estimators=140)\n",
    "model_two.fit(Xtrain, Ytrain[:,0])\n",
    "\n",
    "my_ensemble = BaggingClassifier(base_estimator=model_two, n_estimators=30)\n",
    "my_ensemble.fit(Xtrain, Ytrain[:,0])\n",
    "\n",
    "# Make predictions and submit file \n",
    "filename = 'test.csv' \n",
    "Xtest1 = np.loadtxt(filename, skiprows=1, delimiter=',', usecols=range(1,29))\n",
    "predictions = my_ensemble.predict_proba(Xtest1) # Choose the best model\n",
    "predictions = predictions[:,1:2] # Predictions has two columns. Get probability that label=1.\n",
    "N = predictions.shape[0]\n",
    "assert N == 50000, \"Predictions should have length 50000.\"\n",
    "submission = np.hstack((np.arange(N).reshape(-1,1), predictions)) # Add Id column.\n",
    "np.savetxt(fname='submission.csv', X=submission, header='Id,Predicted', delimiter=',', comments='')\n",
    "\n",
    "# If running on Kaggle.com, submission.csv can be downloaded from this Kaggle Notebook under Sessions->Data->output->/kaggle/working.\n",
    "model_two"
   ]
  },
  {
   "cell_type": "code",
   "execution_count": null,
   "metadata": {},
   "outputs": [],
   "source": []
  }
 ],
 "metadata": {
  "kernelspec": {
   "display_name": "Python 3.8.2 64-bit",
   "language": "python",
   "name": "python38264bite2da8290dfc24876b4fc174c3df36ee7"
  },
  "language_info": {
   "codemirror_mode": {
    "name": "ipython",
    "version": 3
   },
   "file_extension": ".py",
   "mimetype": "text/x-python",
   "name": "python",
   "nbconvert_exporter": "python",
   "pygments_lexer": "ipython3",
   "version": "3.8.2"
  }
 },
 "nbformat": 4,
 "nbformat_minor": 4
}
